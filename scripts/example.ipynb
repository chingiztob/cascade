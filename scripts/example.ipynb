{
 "cells": [
  {
   "cell_type": "code",
   "execution_count": 11,
   "metadata": {},
   "outputs": [],
   "source": [
    "import cascade\n",
    "import pandas as pd\n",
    "import time\n",
    "import random"
   ]
  },
  {
   "cell_type": "code",
   "execution_count": 12,
   "metadata": {},
   "outputs": [
    {
     "name": "stdout",
     "output_type": "stream",
     "text": [
      "Filtering left 1941522 rows\n",
      "Graph creation time: 16.168044982s\n"
     ]
    }
   ],
   "source": [
    "gtfs_path = \"/home/chingiz/Rust/py_rust/cascade/cascade-bin/files/Saint_Petersburg\"\n",
    "pbf_path = \"/home/chingiz/Rust/osm/roads_SZ.pbf\"\n",
    "departure = 20000\n",
    "duration = 70000\n",
    "weekday = \"monday\"\n",
    "\n",
    "graph = cascade.create_graph(gtfs_path, pbf_path, departure, duration, weekday)"
   ]
  },
  {
   "cell_type": "code",
   "execution_count": 25,
   "metadata": {},
   "outputs": [],
   "source": [
    "point_1 = (30.349061, 59.878163)\n",
    "point_2 = (30.370268, 59.851074)\n",
    "list_of_points = [point_1, point_2]\n",
    "# Define the bounding box\n",
    "bbox = {\n",
    "    \"min_x\": 30.349061,\n",
    "    \"max_x\": 30.370268,\n",
    "    \"min_y\": 59.878163,\n",
    "    \"max_y\": 59.851074\n",
    "}\n",
    "\n",
    "# Generate 1000 random points within the bounding box\n",
    "random_points = [\n",
    "    (\n",
    "        random.uniform(bbox[\"min_x\"], bbox[\"max_x\"]),\n",
    "        random.uniform(bbox[\"min_y\"], bbox[\"max_y\"])\n",
    "    )\n",
    "    for _ in range(1000)\n",
    "]\n",
    "\n",
    "list_of_points.extend(random_points)"
   ]
  },
  {
   "cell_type": "code",
   "execution_count": 26,
   "metadata": {},
   "outputs": [
    {
     "data": {
      "text/plain": [
       "1002"
      ]
     },
     "execution_count": 26,
     "metadata": {},
     "output_type": "execute_result"
    }
   ],
   "source": [
    "len(list_of_points)"
   ]
  },
  {
   "cell_type": "code",
   "execution_count": 27,
   "metadata": {},
   "outputs": [
    {
     "name": "stdout",
     "output_type": "stream",
     "text": [
      "780\n",
      "Time elapsed 27.249294724999345 780\n"
     ]
    }
   ],
   "source": [
    "start = time.perf_counter()\n",
    "result = cascade.calculate_od_matrix(graph, list_of_points, 43200)\n",
    "print(\"Time elapsed\", time.perf_counter() - start, len(result))\n",
    "\n",
    "# crate dataframe from result dict of dict\n",
    "df: pd.DataFrame = pd.DataFrame.from_dict(result, orient=\"index\").fillna(0)\n",
    "\n",
    "df_long = df.stack().reset_index()\n",
    "df_long.columns = ['from_point', 'to_point', 'weight']"
   ]
  },
  {
   "cell_type": "code",
   "execution_count": 28,
   "metadata": {},
   "outputs": [
    {
     "data": {
      "text/html": [
       "<div>\n",
       "<style scoped>\n",
       "    .dataframe tbody tr th:only-of-type {\n",
       "        vertical-align: middle;\n",
       "    }\n",
       "\n",
       "    .dataframe tbody tr th {\n",
       "        vertical-align: top;\n",
       "    }\n",
       "\n",
       "    .dataframe thead th {\n",
       "        text-align: right;\n",
       "    }\n",
       "</style>\n",
       "<table border=\"1\" class=\"dataframe\">\n",
       "  <thead>\n",
       "    <tr style=\"text-align: right;\">\n",
       "      <th></th>\n",
       "      <th>from_point</th>\n",
       "      <th>to_point</th>\n",
       "      <th>weight</th>\n",
       "    </tr>\n",
       "  </thead>\n",
       "  <tbody>\n",
       "    <tr>\n",
       "      <th>0</th>\n",
       "      <td>184752</td>\n",
       "      <td>244635</td>\n",
       "      <td>516.574132</td>\n",
       "    </tr>\n",
       "    <tr>\n",
       "      <th>1</th>\n",
       "      <td>184752</td>\n",
       "      <td>437252</td>\n",
       "      <td>2587.976768</td>\n",
       "    </tr>\n",
       "    <tr>\n",
       "      <th>2</th>\n",
       "      <td>184752</td>\n",
       "      <td>403559</td>\n",
       "      <td>2530.529168</td>\n",
       "    </tr>\n",
       "    <tr>\n",
       "      <th>3</th>\n",
       "      <td>184752</td>\n",
       "      <td>40242</td>\n",
       "      <td>2357.772571</td>\n",
       "    </tr>\n",
       "    <tr>\n",
       "      <th>4</th>\n",
       "      <td>184752</td>\n",
       "      <td>495238</td>\n",
       "      <td>2952.272505</td>\n",
       "    </tr>\n",
       "  </tbody>\n",
       "</table>\n",
       "</div>"
      ],
      "text/plain": [
       "   from_point  to_point       weight\n",
       "0      184752    244635   516.574132\n",
       "1      184752    437252  2587.976768\n",
       "2      184752    403559  2530.529168\n",
       "3      184752     40242  2357.772571\n",
       "4      184752    495238  2952.272505"
      ]
     },
     "execution_count": 28,
     "metadata": {},
     "output_type": "execute_result"
    }
   ],
   "source": [
    "df_long.head(5)"
   ]
  },
  {
   "cell_type": "code",
   "execution_count": 23,
   "metadata": {},
   "outputs": [
    {
     "name": "stdout",
     "output_type": "stream",
     "text": [
      "(30.375039899999997, 59.9040987)\n",
      "(29.898146699999998, 59.8890689)\n"
     ]
    }
   ],
   "source": [
    "mapping = graph.get_mapping()\n",
    "print(mapping[226386].get_geometry())\n",
    "print(mapping[403891].get_geometry())"
   ]
  },
  {
   "cell_type": "code",
   "execution_count": 24,
   "metadata": {},
   "outputs": [
    {
     "name": "stdout",
     "output_type": "stream",
     "text": [
      "(30.2193868, 59.8642736)\n",
      "7318394982\n",
      "street\n",
      "442378\n",
      "2689.5491747805418\n"
     ]
    }
   ],
   "source": [
    "mapping = graph.get_mapping()\n",
    "print(mapping[111].get_geometry())\n",
    "print(mapping[111].get_id())\n",
    "print(mapping[111].get_node_type())\n",
    "\n",
    "print(len(cascade.single_source_shortest_path(graph, 43200, 30.320234, 59.875912)))\n",
    "\n",
    "print(\n",
    "    cascade.shortest_path(\n",
    "        graph=graph,\n",
    "        dep_time=43200,\n",
    "        source_x=30.349061,\n",
    "        source_y=59.878163,\n",
    "        target_x=30.370268,\n",
    "        target_y=59.851074,\n",
    "    )\n",
    ")"
   ]
  }
 ],
 "metadata": {
  "kernelspec": {
   "display_name": ".venv",
   "language": "python",
   "name": "python3"
  },
  "language_info": {
   "codemirror_mode": {
    "name": "ipython",
    "version": 3
   },
   "file_extension": ".py",
   "mimetype": "text/x-python",
   "name": "python",
   "nbconvert_exporter": "python",
   "pygments_lexer": "ipython3",
   "version": "3.12.5"
  }
 },
 "nbformat": 4,
 "nbformat_minor": 2
}
