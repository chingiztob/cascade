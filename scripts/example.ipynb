{
 "cells": [
  {
   "cell_type": "code",
   "execution_count": 1,
   "metadata": {},
   "outputs": [],
   "source": [
    "import cascade\n",
    "from cascade import PyPoint\n",
    "import pandas as pd\n",
    "import time\n",
    "import random\n",
    "import string\n",
    "\n",
    "def random_string(length=5):\n",
    "    # Generate a random string of a given length (default: 5 characters)\n",
    "    return ''.join(random.choices(string.ascii_letters + string.digits, k=length))"
   ]
  },
  {
   "cell_type": "code",
   "execution_count": 2,
   "metadata": {},
   "outputs": [
    {
     "name": "stdout",
     "output_type": "stream",
     "text": [
      "Filtering left 1942842 rows\n",
      "number of edges 1439514\n",
      "1\n",
      "517512\n",
      "Graph creation time: 16.420134631s\n"
     ]
    }
   ],
   "source": [
    "gtfs_path = \"/home/chingiz/Rust/py_rust/cascade/cascade-bin/files/Saint_Petersburg\"\n",
    "pbf_path = \"/home/chingiz/Rust/osm/roads_SZ.pbf\"\n",
    "departure = 0\n",
    "duration = 90000\n",
    "weekday = \"monday\"\n",
    "\n",
    "graph = cascade.create_graph(gtfs_path, pbf_path, departure, duration, weekday)"
   ]
  },
  {
   "cell_type": "code",
   "execution_count": 3,
   "metadata": {},
   "outputs": [
    {
     "data": {
      "text/plain": [
       "526089"
      ]
     },
     "execution_count": 3,
     "metadata": {},
     "output_type": "execute_result"
    }
   ],
   "source": [
    "mapping = graph.get_mapping()\n",
    "len(mapping)"
   ]
  },
  {
   "cell_type": "code",
   "execution_count": 4,
   "metadata": {},
   "outputs": [],
   "source": [
    "transit = 0\n",
    "walk = 0\n",
    "\n",
    "for key, value in mapping.items():\n",
    "    if value.get_node_type() == \"street\":\n",
    "        walk += 1\n",
    "    else:\n",
    "        transit += 1"
   ]
  },
  {
   "cell_type": "code",
   "execution_count": 5,
   "metadata": {},
   "outputs": [
    {
     "name": "stdout",
     "output_type": "stream",
     "text": [
      "8577 517512\n"
     ]
    }
   ],
   "source": [
    "print(transit, walk)"
   ]
  },
  {
   "cell_type": "code",
   "execution_count": 18,
   "metadata": {},
   "outputs": [],
   "source": [
    "list_of_points = []\n",
    "# Define the bounding box\n",
    "bbox = {\n",
    "    \"min_x\": 61.331478,\n",
    "    \"max_x\": 61.438925,\n",
    "    \"min_y\": 55.132710,\n",
    "    \"max_y\": 55.196110\n",
    "}\n",
    "\n",
    "bbox = {\n",
    "    \"min_x\": 30.349061,\n",
    "    \"max_x\": 30.370268,\n",
    "    \"min_y\": 59.878163,\n",
    "    \"max_y\": 59.851074\n",
    "}\n",
    " \n",
    "# Generate 1000 random points within the bounding box\n",
    "random_points = [\n",
    "    PyPoint(\n",
    "        random.uniform(bbox[\"min_x\"], bbox[\"max_x\"]),\n",
    "        random.uniform(bbox[\"min_y\"], bbox[\"max_y\"]),\n",
    "        random_string(7) \n",
    "    )\n",
    "    for _ in range(1000)\n",
    "]\n",
    "\n",
    "list_of_points.extend(random_points)"
   ]
  },
  {
   "cell_type": "code",
   "execution_count": 19,
   "metadata": {},
   "outputs": [],
   "source": [
    "mapping = {p.id():(p.y(),p.x()) for p in list_of_points}"
   ]
  },
  {
   "cell_type": "code",
   "execution_count": 20,
   "metadata": {},
   "outputs": [
    {
     "name": "stdout",
     "output_type": "stream",
     "text": [
      "Time elapsed 531.798696326 10000\n"
     ]
    }
   ],
   "source": [
    "start = time.perf_counter()\n",
    "result = cascade.calculate_od_matrix(graph, list_of_points, 43200)\n",
    "print(\"Time elapsed\", time.perf_counter() - start, len(result))\n",
    "\n",
    "# crate dataframe from result dict of dict\n",
    "df: pd.DataFrame = pd.DataFrame.from_dict(result, orient=\"index\").fillna(0)\n",
    "\n",
    "df_long = df.stack().reset_index()\n",
    "df_long.columns = ['from_point', 'to_point', 'weight']"
   ]
  },
  {
   "cell_type": "code",
   "execution_count": 21,
   "metadata": {},
   "outputs": [],
   "source": [
    "df_long[\"coord_source\"] = df_long[\"from_point\"].apply(lambda x: mapping.get(x))\n",
    "df_long[\"coord_target\"] = df_long[\"to_point\"].apply(lambda x: mapping.get(x))"
   ]
  },
  {
   "cell_type": "code",
   "execution_count": 22,
   "metadata": {},
   "outputs": [
    {
     "data": {
      "text/html": [
       "<div>\n",
       "<style scoped>\n",
       "    .dataframe tbody tr th:only-of-type {\n",
       "        vertical-align: middle;\n",
       "    }\n",
       "\n",
       "    .dataframe tbody tr th {\n",
       "        vertical-align: top;\n",
       "    }\n",
       "\n",
       "    .dataframe thead th {\n",
       "        text-align: right;\n",
       "    }\n",
       "</style>\n",
       "<table border=\"1\" class=\"dataframe\">\n",
       "  <thead>\n",
       "    <tr style=\"text-align: right;\">\n",
       "      <th></th>\n",
       "      <th>from_point</th>\n",
       "      <th>to_point</th>\n",
       "      <th>weight</th>\n",
       "      <th>coord_source</th>\n",
       "      <th>coord_target</th>\n",
       "    </tr>\n",
       "  </thead>\n",
       "  <tbody>\n",
       "    <tr>\n",
       "      <th>0</th>\n",
       "      <td>fv6ueXg</td>\n",
       "      <td>6oGYNwx</td>\n",
       "      <td>627.499264</td>\n",
       "      <td>(59.87460615394942, 30.358036549373328)</td>\n",
       "      <td>(59.871411303658185, 30.35465764979515)</td>\n",
       "    </tr>\n",
       "    <tr>\n",
       "      <th>1</th>\n",
       "      <td>fv6ueXg</td>\n",
       "      <td>L7vneme</td>\n",
       "      <td>2013.238040</td>\n",
       "      <td>(59.87460615394942, 30.358036549373328)</td>\n",
       "      <td>(59.858025396776945, 30.351878619582614)</td>\n",
       "    </tr>\n",
       "    <tr>\n",
       "      <th>2</th>\n",
       "      <td>fv6ueXg</td>\n",
       "      <td>BvyZ0om</td>\n",
       "      <td>1051.432667</td>\n",
       "      <td>(59.87460615394942, 30.358036549373328)</td>\n",
       "      <td>(59.86529636088742, 30.363269149555467)</td>\n",
       "    </tr>\n",
       "    <tr>\n",
       "      <th>3</th>\n",
       "      <td>fv6ueXg</td>\n",
       "      <td>fBn8zEf</td>\n",
       "      <td>866.148965</td>\n",
       "      <td>(59.87460615394942, 30.358036549373328)</td>\n",
       "      <td>(59.86710471260182, 30.36788056494167)</td>\n",
       "    </tr>\n",
       "    <tr>\n",
       "      <th>4</th>\n",
       "      <td>fv6ueXg</td>\n",
       "      <td>IlVRyGG</td>\n",
       "      <td>2135.838727</td>\n",
       "      <td>(59.87460615394942, 30.358036549373328)</td>\n",
       "      <td>(59.857697738999256, 30.358845198738017)</td>\n",
       "    </tr>\n",
       "    <tr>\n",
       "      <th>...</th>\n",
       "      <td>...</td>\n",
       "      <td>...</td>\n",
       "      <td>...</td>\n",
       "      <td>...</td>\n",
       "      <td>...</td>\n",
       "    </tr>\n",
       "    <tr>\n",
       "      <th>32379995</th>\n",
       "      <td>7agGsJY</td>\n",
       "      <td>4iApKef</td>\n",
       "      <td>1826.550414</td>\n",
       "      <td>(59.8589273104206, 30.360032828418007)</td>\n",
       "      <td>(59.87287956893644, 30.34934161073305)</td>\n",
       "    </tr>\n",
       "    <tr>\n",
       "      <th>32379996</th>\n",
       "      <td>7agGsJY</td>\n",
       "      <td>UpryVn8</td>\n",
       "      <td>866.205683</td>\n",
       "      <td>(59.8589273104206, 30.360032828418007)</td>\n",
       "      <td>(59.85600473689304, 30.349531822317612)</td>\n",
       "    </tr>\n",
       "    <tr>\n",
       "      <th>32379997</th>\n",
       "      <td>7agGsJY</td>\n",
       "      <td>auReBik</td>\n",
       "      <td>1654.380693</td>\n",
       "      <td>(59.8589273104206, 30.360032828418007)</td>\n",
       "      <td>(59.86034365857978, 30.367629862517063)</td>\n",
       "    </tr>\n",
       "    <tr>\n",
       "      <th>32379998</th>\n",
       "      <td>7agGsJY</td>\n",
       "      <td>WU2PMOf</td>\n",
       "      <td>2338.865999</td>\n",
       "      <td>(59.8589273104206, 30.360032828418007)</td>\n",
       "      <td>(59.86964659547507, 30.367747606273415)</td>\n",
       "    </tr>\n",
       "    <tr>\n",
       "      <th>32379999</th>\n",
       "      <td>7agGsJY</td>\n",
       "      <td>KmriGCj</td>\n",
       "      <td>643.940068</td>\n",
       "      <td>(59.8589273104206, 30.360032828418007)</td>\n",
       "      <td>(59.855343847915805, 30.355980414312615)</td>\n",
       "    </tr>\n",
       "  </tbody>\n",
       "</table>\n",
       "<p>32380000 rows × 5 columns</p>\n",
       "</div>"
      ],
      "text/plain": [
       "         from_point to_point       weight  \\\n",
       "0           fv6ueXg  6oGYNwx   627.499264   \n",
       "1           fv6ueXg  L7vneme  2013.238040   \n",
       "2           fv6ueXg  BvyZ0om  1051.432667   \n",
       "3           fv6ueXg  fBn8zEf   866.148965   \n",
       "4           fv6ueXg  IlVRyGG  2135.838727   \n",
       "...             ...      ...          ...   \n",
       "32379995    7agGsJY  4iApKef  1826.550414   \n",
       "32379996    7agGsJY  UpryVn8   866.205683   \n",
       "32379997    7agGsJY  auReBik  1654.380693   \n",
       "32379998    7agGsJY  WU2PMOf  2338.865999   \n",
       "32379999    7agGsJY  KmriGCj   643.940068   \n",
       "\n",
       "                                     coord_source  \\\n",
       "0         (59.87460615394942, 30.358036549373328)   \n",
       "1         (59.87460615394942, 30.358036549373328)   \n",
       "2         (59.87460615394942, 30.358036549373328)   \n",
       "3         (59.87460615394942, 30.358036549373328)   \n",
       "4         (59.87460615394942, 30.358036549373328)   \n",
       "...                                           ...   \n",
       "32379995   (59.8589273104206, 30.360032828418007)   \n",
       "32379996   (59.8589273104206, 30.360032828418007)   \n",
       "32379997   (59.8589273104206, 30.360032828418007)   \n",
       "32379998   (59.8589273104206, 30.360032828418007)   \n",
       "32379999   (59.8589273104206, 30.360032828418007)   \n",
       "\n",
       "                                      coord_target  \n",
       "0          (59.871411303658185, 30.35465764979515)  \n",
       "1         (59.858025396776945, 30.351878619582614)  \n",
       "2          (59.86529636088742, 30.363269149555467)  \n",
       "3           (59.86710471260182, 30.36788056494167)  \n",
       "4         (59.857697738999256, 30.358845198738017)  \n",
       "...                                            ...  \n",
       "32379995    (59.87287956893644, 30.34934161073305)  \n",
       "32379996   (59.85600473689304, 30.349531822317612)  \n",
       "32379997   (59.86034365857978, 30.367629862517063)  \n",
       "32379998   (59.86964659547507, 30.367747606273415)  \n",
       "32379999  (59.855343847915805, 30.355980414312615)  \n",
       "\n",
       "[32380000 rows x 5 columns]"
      ]
     },
     "execution_count": 22,
     "metadata": {},
     "output_type": "execute_result"
    }
   ],
   "source": [
    "df_long"
   ]
  },
  {
   "cell_type": "code",
   "execution_count": 23,
   "metadata": {},
   "outputs": [
    {
     "name": "stdout",
     "output_type": "stream",
     "text": [
      "(30.314132999999998, 59.9112029)\n",
      "(29.8157905, 59.8721305)\n"
     ]
    }
   ],
   "source": [
    "mapping = graph.get_mapping()\n",
    "print(mapping[226386].get_geometry())\n",
    "print(mapping[403891].get_geometry())"
   ]
  },
  {
   "cell_type": "code",
   "execution_count": 24,
   "metadata": {},
   "outputs": [
    {
     "data": {
      "text/plain": [
       "(30.2687346, 59.8907271)"
      ]
     },
     "execution_count": 24,
     "metadata": {},
     "output_type": "execute_result"
    }
   ],
   "source": [
    "dd = graph.get_mapping()\n",
    "dd[398264].get_geometry()"
   ]
  },
  {
   "cell_type": "code",
   "execution_count": 25,
   "metadata": {},
   "outputs": [
    {
     "name": "stdout",
     "output_type": "stream",
     "text": [
      "526089\n",
      "3804.3809961511206\n",
      "Time elapsed 0.08361929300008342\n"
     ]
    },
    {
     "ename": "",
     "evalue": "",
     "output_type": "error",
     "traceback": [
      "\u001b[1;31mПри выполнении кода в текущей ячейке или предыдущей ячейке ядро аварийно завершило работу. \n",
      "\u001b[1;31mПроверьте код в ячейках, чтобы определить возможную причину сбоя. \n",
      "\u001b[1;31mЩелкните <a href='https://aka.ms/vscodeJupyterKernelCrash'>здесь</a>, чтобы получить дополнительные сведения. \n",
      "\u001b[1;31mПодробнее см. в <a href='command:jupyter.viewOutput'>журнале Jupyter</a>."
     ]
    }
   ],
   "source": [
    "print(len(cascade.single_source_shortest_path(graph, 43200, 30.320234, 59.875912)))\n",
    "(source_x, source_y)  = [(y,x) for (x,y) in [((59.89664126900218, 30.342734328605864))]][0]\n",
    "(target_x, target_y) = [(y,x) for (x,y) in [(59.90557796210815, 30.417929109882287)]][0]\n",
    "\n",
    "start = time.perf_counter()\n",
    "print(\n",
    "    cascade.shortest_path(\n",
    "        graph=graph,\n",
    "        dep_time=43200,\n",
    "        source_x=source_x,\n",
    "        source_y=source_y,\n",
    "        target_x=target_x,\n",
    "        target_y=target_y,\n",
    "    )\n",
    ")\n",
    "print(\"Time elapsed\", time.perf_counter() - start)"
   ]
  }
 ],
 "metadata": {
  "kernelspec": {
   "display_name": ".venv",
   "language": "python",
   "name": "python3"
  },
  "language_info": {
   "codemirror_mode": {
    "name": "ipython",
    "version": 3
   },
   "file_extension": ".py",
   "mimetype": "text/x-python",
   "name": "python",
   "nbconvert_exporter": "python",
   "pygments_lexer": "ipython3",
   "version": "3.12.5"
  }
 },
 "nbformat": 4,
 "nbformat_minor": 2
}
