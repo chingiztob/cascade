{
 "cells": [
  {
   "cell_type": "code",
   "execution_count": 1,
   "metadata": {},
   "outputs": [],
   "source": [
    "import cascade\n",
    "import pandas as pd\n",
    "import time\n",
    "import random"
   ]
  },
  {
   "cell_type": "code",
   "execution_count": 2,
   "metadata": {},
   "outputs": [
    {
     "name": "stdout",
     "output_type": "stream",
     "text": [
      "Filtering left 1941522 rows\n",
      "Graph creation time: 17.077180208s\n"
     ]
    }
   ],
   "source": [
    "gtfs_path = \"/home/chingiz/Rust/py_rust/cascade/cascade-bin/files/Saint_Petersburg\"\n",
    "pbf_path = \"/home/chingiz/Rust/osm/roads_SZ.pbf\"\n",
    "departure = 20000\n",
    "duration = 70000\n",
    "weekday = \"monday\"\n",
    "\n",
    "graph = cascade.create_graph(gtfs_path, pbf_path, departure, duration, weekday)"
   ]
  },
  {
   "cell_type": "code",
   "execution_count": 3,
   "metadata": {},
   "outputs": [],
   "source": [
    "point_1 = (30.349061, 59.878163)\n",
    "point_2 = (30.370268, 59.851074)\n",
    "list_of_points = [point_1, point_2]\n",
    "# Define the bounding box\n",
    "bbox = {\n",
    "    \"min_x\": 30.0,\n",
    "    \"max_x\": 31.0,\n",
    "    \"min_y\": 59.0,\n",
    "    \"max_y\": 60.0\n",
    "}\n",
    "\n",
    "# Generate 1000 random points within the bounding box\n",
    "random_points = [\n",
    "    (\n",
    "        random.uniform(bbox[\"min_x\"], bbox[\"max_x\"]),\n",
    "        random.uniform(bbox[\"min_y\"], bbox[\"max_y\"])\n",
    "    )\n",
    "    for _ in range(10)\n",
    "]\n",
    "\n",
    "list_of_points.extend(random_points)"
   ]
  },
  {
   "cell_type": "code",
   "execution_count": 5,
   "metadata": {},
   "outputs": [
    {
     "name": "stdout",
     "output_type": "stream",
     "text": [
      "Time elapsed 0.8125315149999892 11\n"
     ]
    }
   ],
   "source": [
    "start = time.perf_counter()\n",
    "result = cascade.calculate_od_matrix(graph, list_of_points, 43200)\n",
    "print(\"Time elapsed\", time.perf_counter() - start, len(result))\n",
    "\n",
    "# crate dataframe from result dict of dict\n",
    "df: pd.DataFrame = pd.DataFrame.from_dict(result, orient=\"index\").fillna(0)\n",
    "\n",
    "df_long = df.stack().reset_index()\n",
    "df_long.columns = ['from_point', 'to_point', 'weight']"
   ]
  },
  {
   "cell_type": "code",
   "execution_count": null,
   "metadata": {},
   "outputs": [],
   "source": [
    "df_long"
   ]
  },
  {
   "cell_type": "code",
   "execution_count": null,
   "metadata": {},
   "outputs": [],
   "source": [
    "mapping = graph.get_mapping()\n",
    "print(mapping[111].get_geometry())\n",
    "print(mapping[111].get_id())\n",
    "print(mapping[111].get_node_type())\n",
    "\n",
    "print(len(cascade.single_source_shortest_path(graph, 43200, 30.320234, 59.875912)))\n",
    "\n",
    "print(\n",
    "    cascade.shortest_path(\n",
    "        graph=graph,\n",
    "        dep_time=43200,\n",
    "        source_x=30.349061,\n",
    "        source_y=59.878163,\n",
    "        target_x=30.370268,\n",
    "        target_y=59.851074,\n",
    "    )\n",
    ")"
   ]
  }
 ],
 "metadata": {
  "kernelspec": {
   "display_name": ".venv",
   "language": "python",
   "name": "python3"
  },
  "language_info": {
   "codemirror_mode": {
    "name": "ipython",
    "version": 3
   },
   "file_extension": ".py",
   "mimetype": "text/x-python",
   "name": "python",
   "nbconvert_exporter": "python",
   "pygments_lexer": "ipython3",
   "version": "3.12.5"
  }
 },
 "nbformat": 4,
 "nbformat_minor": 2
}
